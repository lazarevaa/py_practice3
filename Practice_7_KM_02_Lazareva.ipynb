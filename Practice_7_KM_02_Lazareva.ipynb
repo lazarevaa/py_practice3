running = True
while running:

    a = int(input('input a: '))
    b = int(input('input b: '))
    c = int(input('input c: '))

    try:
        if a == 0:
            raise ZeroDivisionError('Wrong, a can not be equal to zero.')
        else:
            d = b ** 2 - 4 * a * c
            if d < 0:
                raise ValueError('Error. D < 0.')
            elif d == 0:
                print('Equasion has one solution:')
                x = (d ** (1/2) - b) / 2 * a
                print(x)
                running = False
            else:
                x = (d ** (1/2) - b) / (2 * a)
                y = (-(d ** (1/2)) - b) / (2 * a)
                print(f'x1={x}, x2={y}.')
                running = False
    except ZeroDivisionError as ve:
        running = True
        print('Wrong, a can not be equal to zero.')
    except ValueError:
        running = True
        print('Error. D < 0.')
  ]
}
