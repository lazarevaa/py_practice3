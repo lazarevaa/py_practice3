{
  "nbformat": 4,
  "nbformat_minor": 0,
  "metadata": {
    "colab": {
      "name": "Practice_7_KM-01_.ipynb",
      "provenance": [],
      "collapsed_sections": []
    },
    "kernelspec": {
      "name": "python3",
      "display_name": "Python 3"
    }
  },
  "cells": [
    {
      "cell_type": "markdown",
      "metadata": {
        "id": "FMqboNwO4rVs"
      },
      "source": [
        "# **Курс \"Програмування на мові Python\"**\n",
        "\n",
        "##### Викладачі:\n",
        "##### Борисенко Павло Борисович\n",
        "##### Щьоголєв Максим Олегович\n"
      ]
    },
    {
      "cell_type": "markdown",
      "metadata": {
        "id": "A2T6MigL5Z06"
      },
      "source": [
        "## **Практичне зайняття №7**\n",
        "\n",
        "### Тема: \"Перевірка даних. Робота з виключеннями. Регулярні вирази\""
      ]
    },
    {
      "cell_type": "markdown",
      "metadata": {
        "id": "cfCdgK2zXm7e"
      },
      "source": [
        "### **Завдання 1 (1,5 бали)**\n",
        "\n",
        "Переробити завдання №1 практичної роботи №6 з використанням регулярних виразів.\n",
        "\n",
        "1. Створити шаблон регулярного виразу.\n",
        "\n",
        "2. За допомогою функції compile() створити об'єкт регулярного виразу.\n",
        "\n",
        "3. Всі інші вимоги залишаються такими ж, як і в оригінальному завданні."
      ]
    },
    {
      "cell_type": "code",
      "metadata": {
        "id": "ifNX2M7LXm7f"
      },
      "source": [
        "import re\n",
        "\n",
        "pose_estimation = \"[BodyPart:0-(0.55, 0.17) score=0.81 BodyPart:1-(0.49, 0.27) score=0.85 BodyPart:2-(0.41, 0.26) score=0.67 BodyPart:3-(0.33, 0.37) score=0.72 BodyPart:4-(0.36, 0.48) score=0.78 BodyPart:5-(0.58, 0.27) score=0.81 \" \\\n",
        "                  \"BodyPart:6-(0.65, 0.38) score=0.88 BodyPart:7-(0.62, 0.48) score=0.86 BodyPart:8-(0.43, 0.48) score=0.60 BodyPart:9-(0.43, 0.66) score=0.67 BodyPart:10-(0.53, 0.79) score=0.56 BodyPart:11-(0.53, 0.48) score=0.56 \" \\\n",
        "                  \"BodyPart:12-(0.59, 0.66) score=0.75 BodyPart:13-(0.49, 0.80) score=0.50 BodyPart:14-(0.54, 0.15) score=0.73 BodyPart:15-(0.56, 0.15) score=0.85 BodyPart:16-(0.48, 0.16) score=0.81 BodyPart:17-(0.83, 0.18) score=0.79]\"\n",
        "\n",
        "scores = []\n",
        "points = []\n",
        "\n",
        "a = re.findall(r'score=([\\d.]*\\d+)', pose_estimation) #scores\n",
        "b = re.findall(r'\\((.*?)\\)', pose_estimation) #points\n",
        "\n",
        "for i in a:\n",
        "    scores.append(float(i))\n",
        "\n",
        "for i in b:\n",
        "    for j in i.split(', '):\n",
        "        points.append(float(j))\n",
        "\n",
        "print(f'scores: {scores}')\n",
        "print(f'points: {points}')"
      ],
      "execution_count": 2,
      "outputs": []
    },
    {
      "cell_type": "markdown",
      "metadata": {
        "id": "M1Sg0vXJXm7n"
      },
      "source": [
        "### **Завдання 2 (1,5 бали)**\n",
        "\n",
        "Написати програму підрахунку коренів квадратного рівняння без попередніх перевірок.\n",
        "\n",
        "1. Користувач має вводити коефіцієнти a, b та c з клавіатури.\n",
        "\n",
        "2. Програма має обробляти помилки ділення на 0, кореня від'ємного числа та інші, а також виводити відповідні повідомлення у разі виникнення таких помилок.\n",
        "\n",
        "3. Якщо рівняння не має коренів, программа має генерувати помилку за допомогою ключового слова raise, а потім обробляти її.\n",
        "\n",
        "4. Правильно написана програма при виникненні різних помилок має виводити текст помилки, а також різні повідомлення про те, в чому суть цих помилок. Необроблених помилок бути не повинно."
      ]
    },
    {
      "cell_type": "code",
      "metadata": {
        "id": "co7fcAuvXm7o"
      },
      "source": [
        "running = True\n",
        "while running:\n",
        "\n",
        "    a = int(input('input a: '))\n",
        "    b = int(input('input b: '))\n",
        "    c = int(input('input c: '))\n",
        "\n",
        "    try:\n",
        "        if a == 0:\n",
        "            raise ZeroDivisionError('Wrong, a can not be equal to zero.')\n",
        "        else:\n",
        "            d = b ** 2 - 4 * a * c\n",
        "            if d < 0:\n",
        "                raise ValueError('Error. D < 0.')\n",
        "            elif d == 0:\n",
        "                print('Equasion has one solution:')\n",
        "                x = (d ** (1/2) - b) / 2 * a\n",
        "                print(x)\n",
        "                running = False\n",
        "            else:\n",
        "                x = (d ** (1/2) - b) / (2 * a)\n",
        "                y = (-(d ** (1/2)) - b) / (2 * a)\n",
        "                print(f'x1={x}, x2={y}.')\n",
        "                running = False\n",
        "    except ZeroDivisionError as ve:\n",
        "        running = True\n",
        "        print('Wrong, a can not be equal to zero.')\n",
        "    except ValueError:\n",
        "        running = True\n",
        "        print('Error. D < 0.')"
      ],
      "execution_count": 4,
      "outputs": []
    }
  ]
}